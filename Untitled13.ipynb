{
  "nbformat": 4,
  "nbformat_minor": 0,
  "metadata": {
    "colab": {
      "provenance": [],
      "authorship_tag": "ABX9TyMPEerR6Bq2HbQlm1EWEgD4",
      "include_colab_link": true
    },
    "kernelspec": {
      "name": "python3",
      "display_name": "Python 3"
    },
    "language_info": {
      "name": "python"
    }
  },
  "cells": [
    {
      "cell_type": "markdown",
      "metadata": {
        "id": "view-in-github",
        "colab_type": "text"
      },
      "source": [
        "<a href=\"https://colab.research.google.com/github/maaz-irfan/class-9/blob/main/Untitled13.ipynb\" target=\"_parent\"><img src=\"https://colab.research.google.com/assets/colab-badge.svg\" alt=\"Open In Colab\"/></a>"
      ]
    },
    {
      "cell_type": "code",
      "source": [
        "# project no :1\n",
        "# Mad Libs Story Template\n",
        "# Welcome message\n",
        "print(\"Welcome to the Mad Libs game!\")\n",
        "\n",
        "# Gather user inputs\n",
        "noun1 = input(\"Enter a noun: \")\n",
        "adjective1 = input(\"Enter an adjective: \")\n",
        "verb1 = input(\"Enter a verb: \")\n",
        "place1 = input(\"Enter a place: \")\n",
        "plural_noun = input(\"Enter a plural noun: \")\n",
        "\n",
        "# Mad Libs story\n",
        "story = f\"\"\"\n",
        "Once upon a time, there was a {adjective1} {noun1} who loved to {verb1}.\n",
        "One day, it decided to go to {place1} to meet some {plural_noun}.\n",
        "Everyone had a fantastic time, and they all lived happily ever after!\n",
        "\"\"\"\n",
        "\n",
        "# Print the completed story\n",
        "print(\"\\nHere is your Mad Libs story:\")\n",
        "print(story)\n"
      ],
      "metadata": {
        "colab": {
          "base_uri": "https://localhost:8080/"
        },
        "id": "cxAjQP0X1S_R",
        "outputId": "fd79ee59-39a9-4e51-ccd9-e235cf6cb720"
      },
      "execution_count": 2,
      "outputs": [
        {
          "output_type": "stream",
          "name": "stdout",
          "text": [
            "Welcome to the Mad Libs game!\n",
            "Enter a noun: maaz\n",
            "Enter an adjective: study\n",
            "Enter a verb: study\n",
            "Enter a place: lahore\n",
            "Enter a plural noun: saad\n",
            "\n",
            "Here is your Mad Libs story:\n",
            "\n",
            "Once upon a time, there was a study maaz who loved to study.\n",
            "One day, it decided to go to lahore to meet some saad.\n",
            "Everyone had a fantastic time, and they all lived happily ever after!\n",
            "\n"
          ]
        }
      ]
    },
    {
      "cell_type": "code",
      "source": [
        "# project no:2\n",
        "#guess the number game\n",
        "\n",
        "import random\n",
        "cnumber=random.randrange(6)\n",
        "userinput=int(input(\"enter your number:---\"))\n",
        "if userinput>cnumber:\n",
        "    print(\"your guess number is too high\")\n",
        "elif cnumber>userinput:\n",
        "     print(\"your guess number is too low\")\n",
        "else:\n",
        "    print(\"your guess is too equal\")"
      ],
      "metadata": {
        "id": "j0N-KH781oY1"
      },
      "execution_count": null,
      "outputs": []
    },
    {
      "cell_type": "code",
      "source": [
        "# project no:3\n",
        " #GUESS THE NUMBER GAME (USER)\n",
        "import random\n",
        "\n",
        "def guess_the_number():\n",
        "     print(\"Welcome to the Guess the Number Game!\")\n",
        "     print(\"I'm thinking of a number between 1 and 5.\")\n",
        "\n",
        "secret_number = random.randint(1, 5)\n",
        "\n",
        "attempts = 0\n",
        "guessed_correctly = False\n",
        "\n",
        "while not guessed_correctly:\n",
        "    try:\n",
        "             guess = int(input(\"Enter your guess: \"))\n",
        "    except ValueError:\n",
        "             print(\"Please enter a valid number.\")\n",
        "             continue\n",
        "\n",
        "    attempts += 1\n",
        "\n",
        "    if guess < secret_number:\n",
        "             print(\"Too low! Try again.\")\n",
        "    elif guess > secret_number:\n",
        "             print(\"Too high! Try again.\")\n",
        "    else:\n",
        "             guessed_correctly = True\n",
        "             print(f\"Congratulations! You guessed the number in {attempts} attempts!\")\n",
        "guess_the_number()"
      ],
      "metadata": {
        "id": "qc4_R7S51sKB"
      },
      "execution_count": null,
      "outputs": []
    },
    {
      "cell_type": "code",
      "source": [
        "# project no:4\n",
        "import random\n",
        "\n",
        "# Define possible choices\n",
        "choices = [\"rock\", \"paper\", \"scissors\"]\n",
        "\n",
        "def determine_winner(user, computer):\n",
        "    if user == computer:\n",
        "        return \"It's a tie!\"\n",
        "    elif (user == \"rock\" and computer == \"scissors\") or \\\n",
        "         (user == \"scissors\" and computer == \"paper\") or \\\n",
        "         (user == \"paper\" and computer == \"rock\"):\n",
        "        return \"You win!\"\n",
        "    else:\n",
        "        return \"Computer wins!\"\n",
        "\n",
        "# Game loop\n",
        "while True:\n",
        "    print(\"\\nChoose 'rock', 'paper', or 'scissors'. Type 'exit' to quit.\")\n",
        "    user_choice = input(\"Your choice: \").lower()\n",
        "\n",
        "    if user_choice == \"exit\":\n",
        "        print(\"Thanks for playing!\")\n",
        "        break\n",
        "    elif user_choice not in choices:\n",
        "        print(\"Invalid choice. Try again!\")\n",
        "        continue\n",
        "\n",
        "    # Computer's random choice\n",
        "    computer_choice = random.choice(choices)\n",
        "\n",
        "    print(f\"You chose: {user_choice}\")\n",
        "    print(f\"Computer chose: {computer_choice}\")\n",
        "\n",
        "    # Determine winner\n",
        "    result = determine_winner(user_choice, computer_choice)\n",
        "    print(result)"
      ],
      "metadata": {
        "id": "AfkZW6NV12w-"
      },
      "execution_count": null,
      "outputs": []
    },
    {
      "cell_type": "code",
      "source": [
        "#project no:5\n",
        "import random\n",
        "\n",
        "words = [\"python\", \"hangman\", \"challenge\", \"programming\", \"developer\"]\n",
        "\n",
        "def display_word(word, guessed_letters):\n",
        "    \"\"\"Display the current state of the word with guessed letters revealed.\"\"\"\n",
        "    return \" \".join([letter if letter in guessed_letters else \"_\" for letter in word])\n",
        "\n",
        "def play_hangman():\n",
        "    print(\"Welcome to Hangman!\")\n",
        "    word_to_guess = random.choice(words)\n",
        "    guessed_letters = set()\n",
        "    attempts_left = 4\n",
        "\n",
        "    while attempts_left > 0:\n",
        "        print(\"\\nWord:\", display_word(word_to_guess, guessed_letters))\n",
        "        print(f\"Attempts left: {attempts_left}\")\n",
        "        print(\"Guessed letters:\", \" \".join(sorted(guessed_letters)))\n",
        "\n",
        "        guess = input(\"Guess a letter: \").lower()\n",
        "        if len(guess) != 1 or not guess.isalpha():\n",
        "            print(\"Invalid input! Please guess a single letter.\")\n",
        "            continue\n",
        "\n",
        "        if guess in guessed_letters:\n",
        "            print(f\"You've already guessed '{guess}'. Try again.\")\n",
        "            continue\n",
        "\n",
        "        guessed_letters.add(guess)\n",
        "\n",
        "        if guess in word_to_guess:\n",
        "            print(f\"Good job! '{guess}' is in the word.\")\n",
        "            if all(letter in guessed_letters for letter in word_to_guess):\n",
        "                print(f\"Congratulations! You've guessed the word: {word_to_guess}\")\n",
        "                break\n",
        "        else:\n",
        "            print(f\"Oops! '{guess}' is not in the word.\")\n",
        "            attempts_left -= 1\n",
        "\n",
        "    if attempts_left == 0:\n",
        "        print(f\"Game over! The word was: {word_to_guess}\")\n",
        "\n",
        "play_hangman()"
      ],
      "metadata": {
        "id": "xAYf-SNd17tt"
      },
      "execution_count": null,
      "outputs": []
    },
    {
      "cell_type": "code",
      "source": [
        "# project no :6\n",
        "#countdowm timer\n",
        "import time\n",
        "def countdown(t):\n",
        "    while t > 0:\n",
        "        print(t)\n",
        "        t -= 1\n",
        "        time.sleep(1)\n",
        "    print('time is up')\n",
        "\n",
        "print(\"how many seconds to count down?enter an integer\")\n",
        "second = input()\n",
        "while not second.isdigit():\n",
        "    print(\"please enter an integer\")\n",
        "    second = input()\n",
        "second = int(second)\n",
        "countdown(second)"
      ],
      "metadata": {
        "id": "DBa_abaK2AHw"
      },
      "execution_count": null,
      "outputs": []
    },
    {
      "cell_type": "code",
      "source": [
        "# project no :7\n",
        "#password generator\n",
        "import random\n",
        "import string\n",
        "\n",
        "def generate_password(length=12):\n",
        "    if length < 4:  # Ensure minimum length for complexity\n",
        "        raise ValueError(\"Password length must be at least 4 characters.\")\n",
        "\n",
        "    # Define character sets\n",
        "    lowercase = string.ascii_lowercase\n",
        "    uppercase = string.ascii_uppercase\n",
        "    digits = string.digits\n",
        "    special_characters = string.punctuation\n",
        "\n",
        "    # Ensure the password has at least one character from each set\n",
        "    all_characters = lowercase + uppercase + digits + special_characters\n",
        "    password = [\n",
        "        random.choice(lowercase),\n",
        "        random.choice(uppercase),\n",
        "        random.choice(digits),\n",
        "        random.choice(special_characters)\n",
        "    ]\n",
        "\n",
        "    # Fill the rest of the password length with random characters\n",
        "    password += random.choices(all_characters, k=length - 4)\n",
        "\n",
        "    # Shuffle the password list to randomize order\n",
        "    random.shuffle(password)\n",
        "\n",
        "    return ''.join(password)\n",
        "\n",
        "# Example usage\n",
        "password_length = int(input(\"Enter the desired password length: \"))\n",
        "password = generate_password(password_length)\n",
        "print(\"Generated Password:\", password)"
      ],
      "metadata": {
        "id": "NYoyt9kP2EsN"
      },
      "execution_count": null,
      "outputs": []
    },
    {
      "cell_type": "code",
      "source": [
        "# project no :8\n",
        "# bmi calculator\n",
        "print(\"this program is Calculator the bmi of an individual\\n\")\n",
        "name = input(\"Enter your name: \")\n",
        "weight_m = float(input(\"Enter your weight: \"))\n",
        "height_m = float(input(\"Enter your height in meters: \"))\n",
        "bmi = weight_m / (height_m ** 2)\n",
        "print(\"BMI of\", name, \"is\", bmi)\n",
        "\n",
        "bmi = weight_m / (height_m ** 2)\n",
        "\n",
        "if bmi < 25:\n",
        "    print(\"{name} is  overweight by{bmi} bmi\")\n",
        "\n",
        "else:\n",
        "    print(\"{name} is overweight by {bmi} bmi\")"
      ],
      "metadata": {
        "id": "ImqZP_K82Jtv"
      },
      "execution_count": null,
      "outputs": []
    }
  ]
}